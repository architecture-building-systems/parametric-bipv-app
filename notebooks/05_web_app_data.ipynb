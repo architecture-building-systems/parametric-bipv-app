{
 "cells": [
  {
   "cell_type": "code",
   "execution_count": 1,
   "metadata": {},
   "outputs": [],
   "source": [
    "%load_ext autoreload\n",
    "%autoreload 2"
   ]
  },
  {
   "cell_type": "code",
   "execution_count": 45,
   "metadata": {},
   "outputs": [],
   "source": [
    "import json\n",
    "from pprint import pprint\n",
    "import datadict\n",
    "import functions\n",
    "import devices\n",
    "import pandas as pd\n",
    "import proplot as pplt\n",
    "import numpy as np\n",
    "import intakedata as intake"
   ]
  },
  {
   "cell_type": "code",
   "execution_count": 18,
   "metadata": {},
   "outputs": [],
   "source": [
    "def write_dict_to_json_file(data, file_name):\n",
    "    \"\"\"\n",
    "    Converts a Python dictionary to a JSON-formatted string and writes it to a file.\n",
    "\n",
    "    :param data: Python dictionary to be converted.\n",
    "    :param file_name: Name of the file to which the JSON data will be written.\n",
    "    \"\"\"\n",
    "    # Convert the dictionary to a JSON-formatted string\n",
    "    json_data = json.dumps(data, indent=4)\n",
    "\n",
    "    # Write the JSON data to a file\n",
    "    with open(file_name, 'w') as file:\n",
    "        file.write(json_data)"
   ]
  },
  {
   "cell_type": "markdown",
   "metadata": {},
   "source": [
    "# Extract Data"
   ]
  },
  {
   "cell_type": "code",
   "execution_count": 8,
   "metadata": {},
   "outputs": [],
   "source": [
    "data = datadict.DataFile(\"/Users/jmccarty/GitHub/parametric-bipv-app/static/data/raw_lca_data.json\")"
   ]
  },
  {
   "cell_type": "markdown",
   "metadata": {},
   "source": [
    "# Build Descriptive Files"
   ]
  },
  {
   "cell_type": "code",
   "execution_count": 49,
   "metadata": {},
   "outputs": [],
   "source": [
    "device_dict = {}\n",
    "\n",
    "for device in intake.Naming().raw_devices:\n",
    "    device_dict[intake.Naming().convert_devices[device]] = intake.intake_switcher(device, data.data_dict, intake.Naming().raw_layers, intake.Naming().raw_indicators)"
   ]
  },
  {
   "cell_type": "code",
   "execution_count": null,
   "metadata": {},
   "outputs": [],
   "source": [
    "base_dict = {}\n",
    "\n",
    "for device in intake.Naming().raw_devices:\n",
    "    clean_device = intake.Naming().convert_devices[device]\n",
    "    base_dict[clean_device] = []\n",
    "    new_data = device_dict[clean_device]\n",
    "    \n",
    "    for l in new_data.keys():\n",
    "        new_entry = {\"title\":l,\n",
    "                     \"options\":{}}\n",
    "        \n",
    "        layer_options = list(new_data[l].keys())\n",
    "        \n",
    "        layer_option_locations = {}\n",
    "        for option in layer_options:\n",
    "            \n",
    "            locations = list(new_data[l][option].keys())\n",
    "            layer_option_locations[option] = locations\n",
    "        new_entry['options'] = layer_option_locations\n",
    "        base_dict[clean_device].append(new_entry)"
   ]
  },
  {
   "cell_type": "code",
   "execution_count": 52,
   "metadata": {},
   "outputs": [],
   "source": [
    "write_dict_to_json_file(device_dict, \"/Users/jmccarty/GitHub/parametric-bipv-app/static/data/device_impact_data.json\")\n",
    "write_dict_to_json_file(base_dict, \"/Users/jmccarty/GitHub/parametric-bipv-app/static/data/layer_data.json\")"
   ]
  },
  {
   "cell_type": "markdown",
   "metadata": {},
   "source": [
    "# Build Data File"
   ]
  },
  {
   "cell_type": "code",
   "execution_count": 62,
   "metadata": {},
   "outputs": [
    {
     "name": "stdout",
     "output_type": "stream",
     "text": [
      "monocrystalline\n",
      "polycrystalline\n",
      "cdte\n",
      "cigs\n",
      "organic\n",
      "perovskite\n"
     ]
    }
   ],
   "source": [
    "\n",
    "\n",
    "\n",
    "t_amb = 25\n",
    "all_data = {}\n",
    "self_cons_iterate = np.arange(0.05,1.01+0.01,0.05).round(2)\n",
    "\n",
    "for device_name in [\"monocrystalline\", \"polycrystalline\", \"cdte\", \"cigs\", \"organic\", \"perovskite\"]:\n",
    "    print(device_name)\n",
    "    all_data[device_name] = {}\n",
    "    for loss_factor in np.arange(0.0,1,0.05).round(2):\n",
    "        loss_factor_str = f'{loss_factor:.2f}'\n",
    "        \n",
    "        all_data[device_name][loss_factor_str] = {}\n",
    "        my_sys = devices.System(device_name, loss_factor=loss_factor)\n",
    "        my_sys.n_devices = 1\n",
    "        impact_value = my_sys.device.default_impact * my_sys.device.module_area\n",
    "\n",
    "        my_data = {}\n",
    "        # [0.01] + list(np.arange(0.05,1.01,0.05).round(2))\n",
    "        for self_cons_factor in self_cons_iterate:\n",
    "            self_cons_factor_str = f'{self_cons_factor:.2f}'\n",
    "            all_data[device_name][loss_factor_str][self_cons_factor_str] = {}\n",
    "            sys_impact = []\n",
    "            g_eff_range = np.linspace(0,2000,500)#np.arange(1,1000,2)\n",
    "            for g_eff in g_eff_range:\n",
    "                # if g_eff==0.:\n",
    "                \n",
    "                # get one year\n",
    "                my_sys.system_lifetime_output(g_eff,t_amb)\n",
    "                \n",
    "                # calc year impact\n",
    "                cumulative_impact = my_sys.system_cumulative_impact(impact_value, self_cons_factor)\n",
    "                sys_impact.append(cumulative_impact)\n",
    "            sys_impact[0] = sys_impact[1]\n",
    "            g_eff_range[0] = g_eff_range[1]\n",
    "            df = pd.DataFrame({\"Impact\":sys_impact,\n",
    "                               \"Irradiance\":g_eff_range})\n",
    "            # df = df[df['Impact']<=2]\n",
    "            # df = df[df['Irradiance']<=1000]#.to_csv(f\"/Users/jmccarty/GitHub/parametric-bipv-app/sample_figure/sample_curve_{self_sufficiency_factor}.csv\",index=None)\n",
    "            df = df.round(3)\n",
    "            all_data[device_name][loss_factor_str][self_cons_factor_str]['Impact'] = df['Impact'].tolist()\n",
    "            all_data[device_name][loss_factor_str][self_cons_factor_str]['Irradiance'] = df['Irradiance'].tolist()\n",
    "\n",
    "\n"
   ]
  },
  {
   "cell_type": "code",
   "execution_count": 63,
   "metadata": {},
   "outputs": [],
   "source": [
    "with open(\"/Users/jmccarty/GitHub/parametric-bipv-app/static/data/static_curve_data3.json\",\"w\") as fp:\n",
    "    json.dump(all_data, fp)"
   ]
  }
 ],
 "metadata": {
  "kernelspec": {
   "display_name": "py311",
   "language": "python",
   "name": "python3"
  },
  "language_info": {
   "codemirror_mode": {
    "name": "ipython",
    "version": 3
   },
   "file_extension": ".py",
   "mimetype": "text/x-python",
   "name": "python",
   "nbconvert_exporter": "python",
   "pygments_lexer": "ipython3",
   "version": "3.11.3"
  }
 },
 "nbformat": 4,
 "nbformat_minor": 2
}
